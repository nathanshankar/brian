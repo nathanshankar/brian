{
 "cells": [
  {
   "cell_type": "code",
   "execution_count": 1,
   "metadata": {},
   "outputs": [],
   "source": [
    "import pybullet as pb\n",
    "import pybullet_data\n",
    "import numpy as np\n",
    "import os\n",
    "\n",
    "\n",
    "URDF_DIR = os.path.abspath(os.path.join(os.getcwd(), os.pardir)) + '/urdf/'\n",
    "urdf_model     = URDF_DIR + 'pavlov_mini.urdf'\n",
    "urdf_collision = URDF_DIR + 'pavlov_mini_visualize_collision.urdf'\n",
    "\n",
    "startPos = [0,0,0.5]\n",
    "startOri = [0, 0, 0]\n",
    "\n",
    "\n",
    "client = pb.connect(pb.GUI)#or p.DIRECT for non-graphical version\n",
    "pb.setAdditionalSearchPath(pybullet_data.getDataPath()) #optionally\n",
    "\n",
    "######## Load robot model #########\n",
    "robot_model      = pb.loadURDF(urdf_model, startPos, pb.getQuaternionFromEuler(startOri))\n",
    "for i in range(-1,21):\n",
    "    pb.changeVisualShape(robot_model, i, rgbaColor=[0.2, 0.2, 0.2, 1])\n",
    "    \n",
    "    \n",
    "####### Load collision model ######\n",
    "collision_model  = pb.loadURDF(urdf_collision, startPos, pb.getQuaternionFromEuler(startOri))\n",
    "for i in range(-1,21):\n",
    "    pb.changeVisualShape(collision_model, i, rgbaColor=[1, 0, 0, 0.2])\n",
    "    \n"
   ]
  },
  {
   "cell_type": "code",
   "execution_count": 5,
   "metadata": {},
   "outputs": [
    {
     "data": {
      "text/plain": [
       "True"
      ]
     },
     "execution_count": 5,
     "metadata": {},
     "output_type": "execute_result"
    }
   ],
   "source": [
    "import numpy as np\n",
    "a = np.ones(3)\n",
    "#a[0] = 0\n",
    "\n",
    "np.all(a)"
   ]
  }
 ],
 "metadata": {
  "kernelspec": {
   "display_name": "Python 2",
   "language": "python",
   "name": "python2"
  },
  "language_info": {
   "codemirror_mode": {
    "name": "ipython",
    "version": 2
   },
   "file_extension": ".py",
   "mimetype": "text/x-python",
   "name": "python",
   "nbconvert_exporter": "python",
   "pygments_lexer": "ipython2",
   "version": "2.7.17"
  }
 },
 "nbformat": 4,
 "nbformat_minor": 2
}
